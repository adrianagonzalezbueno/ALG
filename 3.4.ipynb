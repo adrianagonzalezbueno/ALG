{
 "cells": [
  {
   "cell_type": "code",
   "execution_count": 1,
   "id": "454c94cc",
   "metadata": {},
   "outputs": [],
   "source": [
    "temps = [\n",
    "  33.6, 35.2, 30.5, 37.1, 34.4, 31.2, 36.3, 32.7, 33.9, 35.8,\n",
    "  36.1, 32.4, 34.6, 33.2, 30.9, 36.7, 31.8, 37.5, 32.1, 33.5,\n",
    "  34.9, 35.0, 31.5, 36.0, 33.1, 34.2, 37.2, 32.8, 35.5, 36.4, 33.0\n",
    "]"
   ]
  },
  {
   "cell_type": "code",
   "execution_count": 2,
   "id": "7214b532",
   "metadata": {},
   "outputs": [],
   "source": [
    "window_sum = sum(temps[0:7])  #days 1-7\n",
    "best_sum = window_sum\n",
    "best_start = 0     # index of where hottest week starts\n"
   ]
  },
  {
   "cell_type": "code",
   "execution_count": 4,
   "id": "d2e255a2",
   "metadata": {},
   "outputs": [
    {
     "name": "stdout",
     "output_type": "stream",
     "text": [
      "Warmest 7-day period:\n",
      "Days 24 to 30\n"
     ]
    }
   ],
   "source": [
    "# sliding the window\n",
    "\n",
    "for i in range(1, len(temps) - 6):   # last start is day 25 (index 24)\n",
    "    window_sum = window_sum - temps[i-1] + temps[i+6]  # drop left, add right\n",
    "    if window_sum > best_sum:\n",
    "        best_sum = window_sum\n",
    "        best_start = i\n",
    "\n",
    "print(\"Warmest 7-day period:\")\n",
    "print(\"Days\", best_start+1, \"to\", best_start+7)"
   ]
  }
 ],
 "metadata": {
  "kernelspec": {
   "display_name": "Python 3",
   "language": "python",
   "name": "python3"
  },
  "language_info": {
   "codemirror_mode": {
    "name": "ipython",
    "version": 3
   },
   "file_extension": ".py",
   "mimetype": "text/x-python",
   "name": "python",
   "nbconvert_exporter": "python",
   "pygments_lexer": "ipython3",
   "version": "3.12.1"
  }
 },
 "nbformat": 4,
 "nbformat_minor": 5
}
