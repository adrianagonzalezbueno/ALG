{
 "cells": [
  {
   "cell_type": "code",
   "execution_count": 1,
   "id": "d53aeada",
   "metadata": {},
   "outputs": [],
   "source": [
    "memo = {}    # empty dictionary so store results"
   ]
  },
  {
   "cell_type": "code",
   "execution_count": 3,
   "id": "3fd76c7a",
   "metadata": {},
   "outputs": [],
   "source": [
    "def fib(n):\n",
    "    if n in memo:\n",
    "        return memo[n]\n",
    "    if n == 1 or n == 2:\n",
    "        memo[n] = 1\n",
    "    else:\n",
    "        memo[n] = fib(n-1) + fib(n-2)\n",
    "    return memo[n]\n"
   ]
  },
  {
   "cell_type": "code",
   "execution_count": 4,
   "id": "430cf2a1",
   "metadata": {},
   "outputs": [
    {
     "name": "stdout",
     "output_type": "stream",
     "text": [
      "55\n"
     ]
    }
   ],
   "source": [
    "print(fib(10))"
   ]
  }
 ],
 "metadata": {
  "kernelspec": {
   "display_name": "Python 3",
   "language": "python",
   "name": "python3"
  },
  "language_info": {
   "codemirror_mode": {
    "name": "ipython",
    "version": 3
   },
   "file_extension": ".py",
   "mimetype": "text/x-python",
   "name": "python",
   "nbconvert_exporter": "python",
   "pygments_lexer": "ipython3",
   "version": "3.12.1"
  }
 },
 "nbformat": 4,
 "nbformat_minor": 5
}
