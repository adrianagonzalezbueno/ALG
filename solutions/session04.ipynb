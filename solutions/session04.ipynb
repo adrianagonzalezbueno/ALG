{
 "cells": [
  {
   "cell_type": "markdown",
   "id": "70bad4ef",
   "metadata": {},
   "source": [
    "# Solutions for Session 4's Practice Problems"
   ]
  },
  {
   "cell_type": "markdown",
   "id": "4373a38f",
   "metadata": {},
   "source": [
    "## 1\n",
    "\n",
    "```\n",
    "node1 = TreeNode(1)\n",
    "node2 = TreeNode(2)\n",
    "node3 = TreeNode(3)\n",
    "node4 = TreeNode(4)\n",
    "node5 = TreeNode(5)\n",
    "\n",
    "node1.left = node2\n",
    "node1.right = node3\n",
    "node2.left = node4\n",
    "node2.right = node5\n",
    "```"
   ]
  },
  {
   "cell_type": "markdown",
   "id": "8b99dfc9",
   "metadata": {},
   "source": [
    "## 2\n",
    "\n",
    "- Pre-order: `1 2 4 5 3`\n",
    "- In-order: `4 2 5 1 3`\n",
    "- Post-order: `4 5 2 3 1`"
   ]
  },
  {
   "cell_type": "markdown",
   "id": "14a9d423",
   "metadata": {},
   "source": [
    "## 3\n",
    "\n"
   ]
  },
  {
   "cell_type": "code",
   "execution_count": 1,
   "id": "9912aca1",
   "metadata": {},
   "outputs": [
    {
     "name": "stdout",
     "output_type": "stream",
     "text": [
      "BFS:\n",
      "A B C D F E \n",
      "DFS:\n",
      "A C D E B F "
     ]
    }
   ],
   "source": [
    "from collections import deque\n",
    "\n",
    "# Define the graph as an adjacency list\n",
    "graph = {\n",
    "    'A': ['B', 'C'],\n",
    "    'B': ['D', 'F'],\n",
    "    'C': ['D'],\n",
    "    'D': ['E'],\n",
    "    'E': [],\n",
    "    'F': []\n",
    "}\n",
    "\n",
    "def bfs(start):\n",
    "    visited = set()\n",
    "    queue = deque()\n",
    "    queue.append(start)  # Initialize queue with starting node\n",
    "    \n",
    "    while queue:\n",
    "        node = queue.popleft()\n",
    "        if node not in visited:\n",
    "            print(node, end=' ')\n",
    "            visited.add(node)\n",
    "            # Enqueue neighbors\n",
    "            for neighbor in graph[node]:\n",
    "                if neighbor not in visited:\n",
    "                    queue.append(neighbor)\n",
    "\n",
    "def dfs(start):\n",
    "    visited = set()\n",
    "    stack = [start]\n",
    "    \n",
    "    while stack:\n",
    "        node = stack.pop()\n",
    "        if node not in visited:\n",
    "            visited.add(node)\n",
    "            print(node, end=' ')\n",
    "            for neighbor in graph[node]:\n",
    "                if neighbor not in visited:\n",
    "                    stack.append(neighbor)\n",
    "\n",
    "print('BFS:')\n",
    "bfs('A')\n",
    "print('\\nDFS:')\n",
    "dfs('A')\n"
   ]
  },
  {
   "cell_type": "markdown",
   "id": "bc9e647f",
   "metadata": {},
   "source": [
    "## 4\n",
    "\n",
    "Simply run BFS (or DFS) on any starting node; at the end, print the length of `visited`."
   ]
  },
  {
   "cell_type": "markdown",
   "id": "f6fcbe2c",
   "metadata": {},
   "source": [
    "## 5\n",
    "\n",
    "Since the tree is a BST, we want to print first all successors to the *left* to the current node (since we know they are smaller than the current node), then the current node, then all successors to the *right* of the current node. In other words, we need an in-order traversal of the tree.\n",
    "\n",
    "Therefore:"
   ]
  },
  {
   "cell_type": "code",
   "execution_count": 2,
   "id": "f646ff8e",
   "metadata": {},
   "outputs": [],
   "source": [
    "def in_order_traversal(node):\n",
    "    if node is None:\n",
    "        return\n",
    "    in_order_traversal(node.left)\n",
    "    print(node.value)\n",
    "    in_order_traversal(node.right)"
   ]
  },
  {
   "cell_type": "markdown",
   "id": "c7721bf7",
   "metadata": {},
   "source": [
    "## 6\n",
    "\n",
    "Pre-order, in-order, and post-order traversals are all DFS, because they dive head first into the tree's lower levels. In contrast, the BFS approach would be to complete one horizontal level of the tree before moving on to the next level.\n",
    "\n",
    "*Viewed from another angle: recursion works like a stack, and remember that DFS works with the stack-like LIFO order. Pre-order, in-order, and post-order all work recursively on a node's children, therefore they are DFS.*"
   ]
  }
 ],
 "metadata": {
  "kernelspec": {
   "display_name": ".venv",
   "language": "python",
   "name": "python3"
  },
  "language_info": {
   "codemirror_mode": {
    "name": "ipython",
    "version": 3
   },
   "file_extension": ".py",
   "mimetype": "text/x-python",
   "name": "python",
   "nbconvert_exporter": "python",
   "pygments_lexer": "ipython3",
   "version": "3.13.5"
  }
 },
 "nbformat": 4,
 "nbformat_minor": 5
}
