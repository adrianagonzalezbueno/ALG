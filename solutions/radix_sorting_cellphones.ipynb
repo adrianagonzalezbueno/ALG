{
 "cells": [
  {
   "cell_type": "code",
   "execution_count": null,
   "id": "4cc3ebb5",
   "metadata": {},
   "outputs": [
    {
     "data": {
      "text/html": [
       "<div>\n",
       "<style scoped>\n",
       "    .dataframe tbody tr th:only-of-type {\n",
       "        vertical-align: middle;\n",
       "    }\n",
       "\n",
       "    .dataframe tbody tr th {\n",
       "        vertical-align: top;\n",
       "    }\n",
       "\n",
       "    .dataframe thead th {\n",
       "        text-align: right;\n",
       "    }\n",
       "</style>\n",
       "<table border=\"1\" class=\"dataframe\">\n",
       "  <thead>\n",
       "    <tr style=\"text-align: right;\">\n",
       "      <th></th>\n",
       "      <th>Name</th>\n",
       "      <th>Maker</th>\n",
       "      <th>RAM (GB)</th>\n",
       "      <th>Typical Price in Spain (€)</th>\n",
       "    </tr>\n",
       "  </thead>\n",
       "  <tbody>\n",
       "    <tr>\n",
       "      <th>0</th>\n",
       "      <td>iPhone 15</td>\n",
       "      <td>Apple</td>\n",
       "      <td>6</td>\n",
       "      <td>959</td>\n",
       "    </tr>\n",
       "    <tr>\n",
       "      <th>1</th>\n",
       "      <td>iPhone 15 Pro</td>\n",
       "      <td>Apple</td>\n",
       "      <td>8</td>\n",
       "      <td>1219</td>\n",
       "    </tr>\n",
       "    <tr>\n",
       "      <th>2</th>\n",
       "      <td>iPhone 15 Pro Max</td>\n",
       "      <td>Apple</td>\n",
       "      <td>8</td>\n",
       "      <td>1469</td>\n",
       "    </tr>\n",
       "    <tr>\n",
       "      <th>3</th>\n",
       "      <td>OnePlus 11</td>\n",
       "      <td>OnePlus</td>\n",
       "      <td>16</td>\n",
       "      <td>849</td>\n",
       "    </tr>\n",
       "    <tr>\n",
       "      <th>4</th>\n",
       "      <td>Samsung Galaxy S23 Ultra</td>\n",
       "      <td>Samsung</td>\n",
       "      <td>12</td>\n",
       "      <td>1419</td>\n",
       "    </tr>\n",
       "  </tbody>\n",
       "</table>\n",
       "</div>"
      ],
      "text/plain": [
       "                       Name    Maker  RAM (GB)  Typical Price in Spain (€)\n",
       "0                 iPhone 15    Apple         6                         959\n",
       "1             iPhone 15 Pro    Apple         8                        1219\n",
       "2         iPhone 15 Pro Max    Apple         8                        1469\n",
       "3                OnePlus 11  OnePlus        16                         849\n",
       "4  Samsung Galaxy S23 Ultra  Samsung        12                        1419"
      ]
     },
     "execution_count": 6,
     "metadata": {},
     "output_type": "execute_result"
    }
   ],
   "source": [
    "import pandas as pd\n",
    "df = pd.read_excel(\"../data/cellphones.xlsx\")\n",
    "\n",
    "df.head()"
   ]
  },
  {
   "cell_type": "code",
   "execution_count": 8,
   "id": "f5d329ef",
   "metadata": {},
   "outputs": [],
   "source": [
    "# Initialize the buckets 0 ... 16 for all possible RAM values\n",
    "buckets = [[] for _ in range(17)]\n",
    "\n",
    "# For each cellphone, put it in its bucket\n",
    "for i in range(len(df)):\n",
    "    buckets[df.iloc[i][\"RAM (GB)\"]].append(df.iloc[i])"
   ]
  },
  {
   "cell_type": "code",
   "execution_count": 10,
   "id": "9cdeea7d",
   "metadata": {},
   "outputs": [
    {
     "name": "stdout",
     "output_type": "stream",
     "text": [
      "iPhone 15\n",
      "Sony Xperia 10 V\n",
      "iPhone 15 Pro\n",
      "iPhone 15 Pro Max\n",
      "Samsung Galaxy S23\n",
      "Samsung Galaxy S23+\n",
      "Samsung Galaxy A54\n",
      "Google Pixel 8\n",
      "Xiaomi 13\n",
      "Motorola Razr 40 Ultra\n",
      "Fairphone 5\n",
      "Samsung Galaxy S23 Ultra\n",
      "Google Pixel 8 Pro\n",
      "Xiaomi 13 Pro\n",
      "OnePlus Nord 3\n",
      "Oppo Find X5 Pro\n",
      "Oppo Reno10 Pro+\n",
      "Sony Xperia 1 V\n",
      "Motorola Edge 40 Pro\n",
      "Realme GT 2 Pro\n",
      "Realme 11 Pro+\n",
      "Honor Magic5 Pro\n",
      "Honor 90\n",
      "Nothing Phone (2)\n",
      "OnePlus 11\n"
     ]
    }
   ],
   "source": [
    "# Retrieve the sorted list by traversing the buckets\n",
    "for bucket in buckets:\n",
    "    for phone in bucket:\n",
    "        print(phone[\"Name\"])\n"
   ]
  }
 ],
 "metadata": {
  "kernelspec": {
   "display_name": ".venv",
   "language": "python",
   "name": "python3"
  },
  "language_info": {
   "codemirror_mode": {
    "name": "ipython",
    "version": 3
   },
   "file_extension": ".py",
   "mimetype": "text/x-python",
   "name": "python",
   "nbconvert_exporter": "python",
   "pygments_lexer": "ipython3",
   "version": "3.13.5"
  }
 },
 "nbformat": 4,
 "nbformat_minor": 5
}
