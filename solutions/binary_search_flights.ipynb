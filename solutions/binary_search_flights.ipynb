{
 "cells": [
  {
   "cell_type": "code",
   "execution_count": 10,
   "id": "f27aff98",
   "metadata": {},
   "outputs": [
    {
     "data": {
      "text/html": [
       "<div>\n",
       "<style scoped>\n",
       "    .dataframe tbody tr th:only-of-type {\n",
       "        vertical-align: middle;\n",
       "    }\n",
       "\n",
       "    .dataframe tbody tr th {\n",
       "        vertical-align: top;\n",
       "    }\n",
       "\n",
       "    .dataframe thead th {\n",
       "        text-align: right;\n",
       "    }\n",
       "</style>\n",
       "<table border=\"1\" class=\"dataframe\">\n",
       "  <thead>\n",
       "    <tr style=\"text-align: right;\">\n",
       "      <th></th>\n",
       "      <th>Departure_Time</th>\n",
       "      <th>Flight_Number</th>\n",
       "      <th>Destination</th>\n",
       "      <th>Gate</th>\n",
       "      <th>Aircraft_Type</th>\n",
       "      <th>Status</th>\n",
       "    </tr>\n",
       "  </thead>\n",
       "  <tbody>\n",
       "    <tr>\n",
       "      <th>0</th>\n",
       "      <td>2025-08-28 00:00:00</td>\n",
       "      <td>AH2207</td>\n",
       "      <td>Algiers (ALG)</td>\n",
       "      <td>Air Algerie Cargo</td>\n",
       "      <td>B738 (7T-VJJ)</td>\n",
       "      <td>Estimated dep. 1:06 AM</td>\n",
       "    </tr>\n",
       "    <tr>\n",
       "      <th>1</th>\n",
       "      <td>2025-08-28 00:05:00</td>\n",
       "      <td>IB1555</td>\n",
       "      <td>Tenerife (TFS)</td>\n",
       "      <td>Iberia</td>\n",
       "      <td>32A</td>\n",
       "      <td>Estimated dep. 12:05 AM</td>\n",
       "    </tr>\n",
       "    <tr>\n",
       "      <th>2</th>\n",
       "      <td>2025-08-28 00:10:00</td>\n",
       "      <td>IB123</td>\n",
       "      <td>Lima (LIM)</td>\n",
       "      <td>Iberia</td>\n",
       "      <td>359</td>\n",
       "      <td>Scheduled</td>\n",
       "    </tr>\n",
       "    <tr>\n",
       "      <th>3</th>\n",
       "      <td>2025-08-28 00:30:00</td>\n",
       "      <td>IB155</td>\n",
       "      <td>Bogota (BOG)</td>\n",
       "      <td>Iberia</td>\n",
       "      <td>A359 (EC-OAY)</td>\n",
       "      <td>Estimated dep. 12:30 AM</td>\n",
       "    </tr>\n",
       "    <tr>\n",
       "      <th>4</th>\n",
       "      <td>2025-08-28 00:30:00</td>\n",
       "      <td>WT117</td>\n",
       "      <td>Palma de Mallorca (PMI)</td>\n",
       "      <td>Swiftair</td>\n",
       "      <td>EM2</td>\n",
       "      <td>Scheduled</td>\n",
       "    </tr>\n",
       "  </tbody>\n",
       "</table>\n",
       "</div>"
      ],
      "text/plain": [
       "       Departure_Time Flight_Number              Destination  \\\n",
       "0 2025-08-28 00:00:00        AH2207            Algiers (ALG)   \n",
       "1 2025-08-28 00:05:00        IB1555           Tenerife (TFS)   \n",
       "2 2025-08-28 00:10:00         IB123               Lima (LIM)   \n",
       "3 2025-08-28 00:30:00         IB155             Bogota (BOG)   \n",
       "4 2025-08-28 00:30:00         WT117  Palma de Mallorca (PMI)   \n",
       "\n",
       "                Gate  Aircraft_Type                   Status  \n",
       "0  Air Algerie Cargo  B738 (7T-VJJ)   Estimated dep. 1:06 AM  \n",
       "1             Iberia            32A  Estimated dep. 12:05 AM  \n",
       "2             Iberia            359                Scheduled  \n",
       "3             Iberia  A359 (EC-OAY)  Estimated dep. 12:30 AM  \n",
       "4           Swiftair            EM2                Scheduled  "
      ]
     },
     "execution_count": 10,
     "metadata": {},
     "output_type": "execute_result"
    }
   ],
   "source": [
    "import pandas as pd\n",
    "df = pd.read_excel(\"../data/flights_barajas.xlsx\")\n",
    "\n",
    "df.head()"
   ]
  },
  {
   "cell_type": "code",
   "execution_count": 20,
   "id": "3a357cfb",
   "metadata": {},
   "outputs": [
    {
     "name": "stdout",
     "output_type": "stream",
     "text": [
      "Flight found at index 153\n",
      "Departure_Time        2025-08-28 10:00:00\n",
      "Flight_Number                        AA69\n",
      "Destination                   Miami (MIA)\n",
      "Gate                    American Airlines\n",
      "Aircraft_Type               B772 (N761AJ)\n",
      "Status            Estimated dep. 10:22 AM\n",
      "Name: 153, dtype: object\n"
     ]
    }
   ],
   "source": [
    "left = 0\n",
    "right = len(df) - 1\n",
    "target_time = pd.to_datetime(\"28-08-2025 10:00:00\", dayfirst=True)\n",
    "\n",
    "while True:\n",
    "    mid = (left + right) // 2\n",
    "    if df.iloc[mid][\"Departure_Time\"] == target_time:\n",
    "        print(f\"Flight found at index {mid}\")\n",
    "        print(df.iloc[mid])\n",
    "        break\n",
    "    elif left == right:\n",
    "        print(\"Flight not found\")\n",
    "        break\n",
    "    elif df.iloc[mid][\"Departure_Time\"] < target_time:\n",
    "        left = mid + 1\n",
    "    else:\n",
    "        right = mid - 1"
   ]
  }
 ],
 "metadata": {
  "kernelspec": {
   "display_name": ".venv",
   "language": "python",
   "name": "python3"
  },
  "language_info": {
   "codemirror_mode": {
    "name": "ipython",
    "version": 3
   },
   "file_extension": ".py",
   "mimetype": "text/x-python",
   "name": "python",
   "nbconvert_exporter": "python",
   "pygments_lexer": "ipython3",
   "version": "3.13.5"
  }
 },
 "nbformat": 4,
 "nbformat_minor": 5
}
