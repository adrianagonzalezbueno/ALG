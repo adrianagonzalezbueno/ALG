{
 "cells": [
  {
   "cell_type": "code",
   "execution_count": 1,
   "id": "c7bb21f8",
   "metadata": {},
   "outputs": [],
   "source": [
    "import pandas as pd"
   ]
  },
  {
   "cell_type": "code",
   "execution_count": 4,
   "id": "64182fb8",
   "metadata": {},
   "outputs": [
    {
     "data": {
      "text/html": [
       "<div>\n",
       "<style scoped>\n",
       "    .dataframe tbody tr th:only-of-type {\n",
       "        vertical-align: middle;\n",
       "    }\n",
       "\n",
       "    .dataframe tbody tr th {\n",
       "        vertical-align: top;\n",
       "    }\n",
       "\n",
       "    .dataframe thead th {\n",
       "        text-align: right;\n",
       "    }\n",
       "</style>\n",
       "<table border=\"1\" class=\"dataframe\">\n",
       "  <thead>\n",
       "    <tr style=\"text-align: right;\">\n",
       "      <th></th>\n",
       "      <th>Name</th>\n",
       "      <th>Maker</th>\n",
       "      <th>RAM (GB)</th>\n",
       "      <th>Typical Price in Spain (€)</th>\n",
       "    </tr>\n",
       "  </thead>\n",
       "  <tbody>\n",
       "    <tr>\n",
       "      <th>0</th>\n",
       "      <td>iPhone 15</td>\n",
       "      <td>Apple</td>\n",
       "      <td>6</td>\n",
       "      <td>959</td>\n",
       "    </tr>\n",
       "    <tr>\n",
       "      <th>1</th>\n",
       "      <td>iPhone 15 Pro</td>\n",
       "      <td>Apple</td>\n",
       "      <td>8</td>\n",
       "      <td>1219</td>\n",
       "    </tr>\n",
       "    <tr>\n",
       "      <th>2</th>\n",
       "      <td>iPhone 15 Pro Max</td>\n",
       "      <td>Apple</td>\n",
       "      <td>8</td>\n",
       "      <td>1469</td>\n",
       "    </tr>\n",
       "    <tr>\n",
       "      <th>3</th>\n",
       "      <td>OnePlus 11</td>\n",
       "      <td>OnePlus</td>\n",
       "      <td>16</td>\n",
       "      <td>849</td>\n",
       "    </tr>\n",
       "    <tr>\n",
       "      <th>4</th>\n",
       "      <td>Samsung Galaxy S23 Ultra</td>\n",
       "      <td>Samsung</td>\n",
       "      <td>12</td>\n",
       "      <td>1419</td>\n",
       "    </tr>\n",
       "  </tbody>\n",
       "</table>\n",
       "</div>"
      ],
      "text/plain": [
       "                       Name    Maker  RAM (GB)  Typical Price in Spain (€)\n",
       "0                 iPhone 15    Apple         6                         959\n",
       "1             iPhone 15 Pro    Apple         8                        1219\n",
       "2         iPhone 15 Pro Max    Apple         8                        1469\n",
       "3                OnePlus 11  OnePlus        16                         849\n",
       "4  Samsung Galaxy S23 Ultra  Samsung        12                        1419"
      ]
     },
     "execution_count": 4,
     "metadata": {},
     "output_type": "execute_result"
    }
   ],
   "source": [
    "df = pd.read_excel(\"data/cellphones.xlsx\")\n",
    "df.head()"
   ]
  },
  {
   "cell_type": "code",
   "execution_count": 8,
   "id": "9d62ba66",
   "metadata": {},
   "outputs": [
    {
     "name": "stdout",
     "output_type": "stream",
     "text": [
      "iPhone 15 has 6 GB\n",
      "Sony Xperia 10 V has 6 GB\n",
      "iPhone 15 Pro has 8 GB\n",
      "iPhone 15 Pro Max has 8 GB\n",
      "Samsung Galaxy S23 has 8 GB\n",
      "Samsung Galaxy S23+ has 8 GB\n",
      "Samsung Galaxy A54 has 8 GB\n",
      "Google Pixel 8 has 8 GB\n",
      "Xiaomi 13 has 8 GB\n",
      "Motorola Razr 40 Ultra has 8 GB\n",
      "Fairphone 5 has 8 GB\n",
      "Samsung Galaxy S23 Ultra has 12 GB\n",
      "Google Pixel 8 Pro has 12 GB\n",
      "Xiaomi 13 Pro has 12 GB\n",
      "OnePlus Nord 3 has 12 GB\n",
      "Oppo Find X5 Pro has 12 GB\n",
      "Oppo Reno10 Pro+ has 12 GB\n",
      "Sony Xperia 1 V has 12 GB\n",
      "Motorola Edge 40 Pro has 12 GB\n",
      "Realme GT 2 Pro has 12 GB\n",
      "Realme 11 Pro+ has 12 GB\n",
      "Honor Magic5 Pro has 12 GB\n",
      "Honor 90 has 12 GB\n",
      "Nothing Phone (2) has 12 GB\n",
      "OnePlus 11 has 16 GB\n"
     ]
    }
   ],
   "source": [
    "# we initialize 17 buckets for the 17 different RAM possibilities (0-16)\n",
    "buckets = [[] for _ in range(17)]\n",
    "\n",
    "# now for each cellphone, we put it in its respective bucket\n",
    "for i in range(len(df)):\n",
    "    buckets[df.iloc[i][\"RAM (GB)\"]].append(df.iloc[i])\n",
    "    # df.iloc[i][\"RAM (GB)\"]   → looks inside that row and extracts the RAM number. Example: 6.\n",
    "    # buckets[df.iloc[i][\"RAM (GB)\"]  → this means “select the bucket whose index equals the RAM number.”\n",
    "    # .append(df.iloc[i])  → once you’ve chosen the right bucket (step 3), now you just stick the phone row into it.\n",
    "\n",
    "for bucket in buckets:      # go through each RAM bucket, in order (0..16)\n",
    "    for phone in bucket:    # go through each phone inside that bucket\n",
    "        print(f\"{phone[\"Name\"]} has {phone[\"RAM (GB)\"]} GB\")"
   ]
  }
 ],
 "metadata": {
  "kernelspec": {
   "display_name": "Python 3",
   "language": "python",
   "name": "python3"
  },
  "language_info": {
   "codemirror_mode": {
    "name": "ipython",
    "version": 3
   },
   "file_extension": ".py",
   "mimetype": "text/x-python",
   "name": "python",
   "nbconvert_exporter": "python",
   "pygments_lexer": "ipython3",
   "version": "3.12.1"
  }
 },
 "nbformat": 4,
 "nbformat_minor": 5
}
